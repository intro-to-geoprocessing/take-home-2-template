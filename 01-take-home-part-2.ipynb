{
 "metadata": {
  "language_info": {
   "codemirror_mode": {
    "name": "ipython",
    "version": 3
   },
   "file_extension": ".py",
   "mimetype": "text/x-python",
   "name": "python",
   "nbconvert_exporter": "python",
   "pygments_lexer": "ipython3",
   "version": "3.8.6-final"
  },
  "orig_nbformat": 2,
  "kernelspec": {
   "name": "python3",
   "display_name": "Python 3.8.6 64-bit",
   "metadata": {
    "interpreter": {
     "hash": "4cd7ab41f5fca4b9b44701077e38c5ffd31fe66a6cab21e0214b68d958d0e462"
    }
   }
  }
 },
 "nbformat": 4,
 "nbformat_minor": 2,
 "cells": [
  {
   "source": [
    "# Take Home Assignment Part 2\n",
    "*by YOUR NAME HERE*"
   ],
   "cell_type": "markdown",
   "metadata": {}
  },
  {
   "cell_type": "code",
   "execution_count": 28,
   "metadata": {
    "tags": []
   },
   "outputs": [
    {
     "output_type": "execute_result",
     "data": {
      "text/plain": [
       "DataTransformerRegistry.enable('default')"
      ]
     },
     "metadata": {},
     "execution_count": 28
    }
   ],
   "source": [
    "# this cell contains our library imports\n",
    "import pandas as pd\n",
    "import altair as alt\n",
    "import geopandas as geopandas\n",
    "import contextily as cx\n",
    "import folium as folium\n",
    "from pysal.viz import mapclassify\n",
    "from libpysal import weights\n",
    "from splot.libpysal import plot_spatial_weights\n",
    "from splot.esda import moran_scatterplot, lisa_cluster, plot_local_autocorrelation\n",
    "import esda as esda\n",
    "import rasterio as rasterio\n",
    "from rasterio.plot import show\n",
    "import matplotlib.pyplot as plt\n",
    "import numpy as np\n",
    "from rasterstats import zonal_stats\n",
    "\n",
    "\n",
    "alt.data_transformers.disable_max_rows()"
   ]
  }
 ]
}